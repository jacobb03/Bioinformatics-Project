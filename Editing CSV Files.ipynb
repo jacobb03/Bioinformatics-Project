{
 "cells": [
  {
   "cell_type": "code",
   "execution_count": 3,
   "id": "91b90a5a",
   "metadata": {},
   "outputs": [],
   "source": [
    "import pandas as pd\n",
    "import os\n",
    "\n",
    "true_data_path = 'C:/Users/Jacob/Desktop/Raw ADHD True'\n",
    "\n",
    "for filename in os.listdir(true_data_path):\n",
    "    df = pd.read_csv((os.path.join(true_data_path, filename)),sep=\"\\t\",dtype={\"rsid\":str,\"chromosome\":str,\"position\":int,\"genotype\":str})\n",
    "    df = df.set_index(\"rsid\")\n",
    "\n",
    "    #I want all the SNPs in the ADGRL3 gene which is on chromosome 4 within the position range of 61200326-62078335\n",
    "    ADGRL3_gene = (df.loc[:,'chromosome'] == \"4\") & (df.loc[:,'position'].between(61200326, 62078335))\n",
    "\n",
    "    ADGRL3_adhd_t = df.loc[ADGRL3_gene,:]\n",
    "    ADGRL3_adhd_t.to_csv(os.path.join('C:/Users/Jacob/Desktop/Processed ADHD True', filename))"
   ]
  },
  {
   "cell_type": "code",
   "execution_count": 4,
   "id": "c7344610",
   "metadata": {},
   "outputs": [],
   "source": [
    "import pandas as pd\n",
    "import os \n",
    "\n",
    "false_data_path = 'C:/Users/Jacob/Desktop/Raw ADHD False'\n",
    "\n",
    "for filename in os.listdir(false_data_path):\n",
    "    df = pd.read_csv((os.path.join(false_data_path, filename)),sep=\"\\t\",dtype={\"rsid\":str,\"chromosome\":str,\"position\":int,\"genotype\":str})\n",
    "    df = df.set_index(\"rsid\")\n",
    "\n",
    "    #I want all the SNPs in the ADGRL3 gene which is on chromosome 4 within the position range of 61200326-62078335\n",
    "    ADGRL3_gene = (df.loc[:,'chromosome'] == \"4\") & (df.loc[:,'position'].between(61200326, 62078335))\n",
    "\n",
    "    ADGRL3_adhd_f = df.loc[ADGRL3_gene,:]\n",
    "    ADGRL3_adhd_f.to_csv(os.path.join('C:/Users/Jacob/Desktop/Processed ADHD False', filename))"
   ]
  },
  {
   "cell_type": "code",
   "execution_count": null,
   "id": "2823e5a5",
   "metadata": {},
   "outputs": [],
   "source": []
  }
 ],
 "metadata": {
  "kernelspec": {
   "display_name": "Python 3",
   "language": "python",
   "name": "python3"
  },
  "language_info": {
   "codemirror_mode": {
    "name": "ipython",
    "version": 3
   },
   "file_extension": ".py",
   "mimetype": "text/x-python",
   "name": "python",
   "nbconvert_exporter": "python",
   "pygments_lexer": "ipython3",
   "version": "3.8.8"
  }
 },
 "nbformat": 4,
 "nbformat_minor": 5
}
